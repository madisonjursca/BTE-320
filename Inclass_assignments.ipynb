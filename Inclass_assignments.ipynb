{
  "nbformat": 4,
  "nbformat_minor": 0,
  "metadata": {
    "colab": {
      "provenance": [],
      "authorship_tag": "ABX9TyMYeThRTHoMNvq5pF8tD4oi",
      "include_colab_link": true
    },
    "kernelspec": {
      "name": "python3",
      "display_name": "Python 3"
    },
    "language_info": {
      "name": "python"
    }
  },
  "cells": [
    {
      "cell_type": "markdown",
      "metadata": {
        "id": "view-in-github",
        "colab_type": "text"
      },
      "source": [
        "<a href=\"https://colab.research.google.com/github/madisonjursca/BTE-320/blob/main/Inclass_assignments.ipynb\" target=\"_parent\"><img src=\"https://colab.research.google.com/assets/colab-badge.svg\" alt=\"Open In Colab\"/></a>"
      ]
    },
    {
      "cell_type": "code",
      "execution_count": null,
      "metadata": {
        "colab": {
          "base_uri": "https://localhost:8080/"
        },
        "id": "3mgJrI6byZVm",
        "outputId": "2d8c8436-b5a5-4530-f1ac-3143bd9fc785"
      },
      "outputs": [
        {
          "output_type": "stream",
          "name": "stdout",
          "text": [
            "244.92000000000002\n"
          ]
        }
      ],
      "source": [
        "r = 3\n",
        "h = 10\n",
        "pi = 3.14\n",
        "\n",
        "area = 2 * pi * r ** 2 + 2 * pi * r * h\n",
        "print (area)"
      ]
    },
    {
      "cell_type": "code",
      "source": [
        "p1 = input(\"enter move of player 1\")\n",
        "p2 = input(\"enter move of player 2\")\n",
        "\n",
        "\n",
        "if p1 == p2:\n",
        "  print(\"draw\")\n",
        "\n",
        "elif p1 == \"rock\" and p2 == \"sissors\":\n",
        "  print(\"p1 wins\")\n",
        "\n",
        "elif p1 == \"sissors\" and p2 == \"paper\":\n",
        "  print(\"p1 wins\")\n",
        "\n",
        "elif p1 == \"paper\" and p2 == \"rock\":\n",
        "  print(\"p1 wins\")\n",
        "\n",
        "else:\n",
        "  print(\"p2 wins\")\n",
        "\n",
        "\n"
      ],
      "metadata": {
        "colab": {
          "base_uri": "https://localhost:8080/"
        },
        "id": "b68TQKJLSLlJ",
        "outputId": "f973039f-ee9e-46ad-dd60-28f94890344a"
      },
      "execution_count": 4,
      "outputs": [
        {
          "output_type": "stream",
          "name": "stdout",
          "text": [
            "enter move of player 1rock\n",
            "enter move of player 2sissors\n",
            "p1 wins\n"
          ]
        }
      ]
    },
    {
      "cell_type": "code",
      "source": [
        "n1 = 2\n",
        "n2 = 3\n",
        "symbol = input(\"choose op\")\n",
        "\n",
        "if symbol == \"*\":\n",
        "  print(n1 * n2)\n",
        "\n",
        "elif symbol == \"+\":\n",
        "  print(n1 + n2)\n",
        "\n",
        "elif symbol == \"-\":\n",
        "  print: (n1 - n2)\n",
        "\n",
        "elif symbol == (\"/\"):\n",
        "  print(n1 / n2)\n",
        "\n",
        "elif symbol == (\"**\"):\n",
        "  print(n1 ** n2)\n",
        "\n",
        "elif symbol == (\"//\"):\n",
        "  print(n1 // n2)\n",
        "\n",
        "elif symbol == (\"%\"):\n",
        "  print(n1 % n2)\n",
        "\n",
        "else:\n",
        "  print(\"unable to compute\")"
      ],
      "metadata": {
        "colab": {
          "base_uri": "https://localhost:8080/"
        },
        "id": "goithSk_9LK7",
        "outputId": "cc21d2f3-d399-4133-8ee5-83fd9cc6716f"
      },
      "execution_count": 21,
      "outputs": [
        {
          "output_type": "stream",
          "name": "stdout",
          "text": [
            "choose op%\n",
            "2\n"
          ]
        }
      ]
    }
  ]
}