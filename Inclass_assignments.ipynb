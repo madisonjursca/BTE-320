{
  "nbformat": 4,
  "nbformat_minor": 0,
  "metadata": {
    "colab": {
      "provenance": [],
      "authorship_tag": "ABX9TyMo0Id0Bm9y0urWeiWzBWmD",
      "include_colab_link": true
    },
    "kernelspec": {
      "name": "python3",
      "display_name": "Python 3"
    },
    "language_info": {
      "name": "python"
    }
  },
  "cells": [
    {
      "cell_type": "markdown",
      "metadata": {
        "id": "view-in-github",
        "colab_type": "text"
      },
      "source": [
        "<a href=\"https://colab.research.google.com/github/madisonjursca/BTE-320/blob/main/Inclass_assignments.ipynb\" target=\"_parent\"><img src=\"https://colab.research.google.com/assets/colab-badge.svg\" alt=\"Open In Colab\"/></a>"
      ]
    },
    {
      "cell_type": "code",
      "execution_count": null,
      "metadata": {
        "colab": {
          "base_uri": "https://localhost:8080/"
        },
        "id": "3mgJrI6byZVm",
        "outputId": "2d8c8436-b5a5-4530-f1ac-3143bd9fc785"
      },
      "outputs": [
        {
          "output_type": "stream",
          "name": "stdout",
          "text": [
            "244.92000000000002\n"
          ]
        }
      ],
      "source": [
        "r = 3\n",
        "h = 10\n",
        "pi = 3.14\n",
        "\n",
        "area = 2 * pi * r ** 2 + 2 * pi * r * h\n",
        "print (area)"
      ]
    },
    {
      "cell_type": "code",
      "source": [],
      "metadata": {
        "id": "oMJd__3nVuuu"
      },
      "execution_count": null,
      "outputs": []
    },
    {
      "cell_type": "code",
      "source": [
        "c = input(\"Do you want to play?\")\n",
        "while c == 'yes':\n",
        "  p1 = input(\"enter move of player 1\")\n",
        "  p2 = input(\"enter move of player 2\")\n",
        "\n",
        "  if p1 == p2:\n",
        "    print(\"draw\")\n",
        "\n",
        "  elif p1 == \"rock\" and p2 == \"sissors\":\n",
        "    print(\"p1 wins\")\n",
        "\n",
        "  elif p1 == \"sissors\" and p2 == \"paper\":\n",
        "    print(\"p1 wins\")\n",
        "\n",
        "  elif p1 == \"paper\" and p2 == \"rock\":\n",
        "    print(\"p1 wins\")\n",
        "\n",
        "  else:\n",
        "    print(\"p2 wins\")\n",
        "  c = input(\"Do you want to play?\")\n",
        "\n",
        "\n"
      ],
      "metadata": {
        "colab": {
          "base_uri": "https://localhost:8080/"
        },
        "id": "b68TQKJLSLlJ",
        "outputId": "361177bf-3668-493a-bed4-8751ec1a0adb"
      },
      "execution_count": null,
      "outputs": [
        {
          "name": "stdout",
          "output_type": "stream",
          "text": [
            "Do you want to play?yes\n",
            "enter move of player 1rock\n",
            "enter move of player 2paper\n",
            "p2 wins\n",
            "Do you want to play?no\n"
          ]
        }
      ]
    },
    {
      "cell_type": "code",
      "source": [
        "n1 = 2\n",
        "n2 = 3\n",
        "symbol = input(\"choose op\")\n",
        "\n",
        "if symbol == \"*\":\n",
        "  print(n1 * n2)\n",
        "\n",
        "elif symbol == \"+\":\n",
        "  print(n1 + n2)\n",
        "\n",
        "elif symbol == \"-\":\n",
        "  print: (n1 - n2)\n",
        "\n",
        "elif symbol == (\"/\"):\n",
        "  print(n1 / n2)\n",
        "\n",
        "elif symbol == (\"**\"):\n",
        "  print(n1 ** n2)\n",
        "\n",
        "elif symbol == (\"//\"):\n",
        "  print(n1 // n2)\n",
        "\n",
        "elif symbol == (\"%\"):\n",
        "  print(n1 % n2)\n",
        "\n",
        "else:\n",
        "  print(\"unable to compute\")"
      ],
      "metadata": {
        "colab": {
          "base_uri": "https://localhost:8080/"
        },
        "id": "goithSk_9LK7",
        "outputId": "cc21d2f3-d399-4133-8ee5-83fd9cc6716f"
      },
      "execution_count": null,
      "outputs": [
        {
          "output_type": "stream",
          "name": "stdout",
          "text": [
            "choose op%\n",
            "2\n"
          ]
        }
      ]
    },
    {
      "cell_type": "code",
      "source": [
        "import random\n",
        "\n",
        "\n",
        "c = input(\"Do you want to play?\")\n",
        "while c == 'yes':\n",
        "  p1 = input(\"enter move of player 1\")\n",
        "  p2 = random.choice([\"rock\", \"paper\", \"sissors\"])\n",
        "\n",
        "  print(f\"computer choice {p2}.\")\n",
        "\n",
        "  if p1 == p2:\n",
        "    print(\"draw\")\n",
        "\n",
        "  elif p1 == \"rock\" and p2 == \"sissors\":\n",
        "    print(\"you win\")\n",
        "\n",
        "  elif p1 == \"sissors\" and p2 == \"paper\":\n",
        "    print(\"you wins\")\n",
        "\n",
        "  elif p1 == \"paper\" and p2 == \"rock\":\n",
        "    print(\"you wins\")\n",
        "\n",
        "  else:\n",
        "    print(\"computer wins\")\n",
        "  c = input(\"Do you want to play?\")\n",
        "  print(\"have a nice day\")"
      ],
      "metadata": {
        "colab": {
          "base_uri": "https://localhost:8080/"
        },
        "id": "zw4x19TLCZvH",
        "outputId": "859fa38a-c058-479c-cd64-8d49cbe56175"
      },
      "execution_count": null,
      "outputs": [
        {
          "output_type": "stream",
          "name": "stdout",
          "text": [
            "Do you want to play?yes\n",
            "enter move of player 1rock\n",
            "computer choice rock.\n",
            "draw\n",
            "Do you want to play?yes\n",
            "have a nice day)\n",
            "enter move of player 1rock\n",
            "computer choice rock.\n",
            "draw\n",
            "Do you want to play?yes\n",
            "have a nice day)\n",
            "enter move of player 1sissors\n",
            "computer choice paper.\n",
            "you wins\n",
            "Do you want to play?no \n",
            "have a nice day)\n"
          ]
        }
      ]
    },
    {
      "cell_type": "code",
      "source": [
        "input(\"flat rate == 5\")\n",
        "\n",
        "for t in range (1, 9, 1):\n",
        "  charge = 5 + 2.5 * t\n",
        "  if charge < 10:\n",
        "    charge = 10\n",
        "  elif charge > 20:\n",
        "    charge = 20\n",
        "  print(t, charge)"
      ],
      "metadata": {
        "colab": {
          "base_uri": "https://localhost:8080/"
        },
        "id": "zMARrUCsDlb3",
        "outputId": "869c8614-50e2-4f5e-8b84-b8d1c18d8906"
      },
      "execution_count": null,
      "outputs": [
        {
          "output_type": "stream",
          "name": "stdout",
          "text": [
            "flat rate == 53\n",
            "1 10\n",
            "2 10.0\n",
            "3 12.5\n",
            "4 15.0\n",
            "5 17.5\n",
            "6 20.0\n",
            "7 20\n",
            "8 20\n"
          ]
        }
      ]
    },
    {
      "cell_type": "code",
      "source": [
        "for i in range (0, 201,25):\n",
        "  profit = round( 10 * (20 + 2 * i **0.5) - 200 - i)\n",
        "\n",
        "  print(i, profit)\n",
        "\n"
      ],
      "metadata": {
        "colab": {
          "base_uri": "https://localhost:8080/"
        },
        "id": "j1tCl2sBK2jb",
        "outputId": "bd51c088-d57e-47aa-8419-000da978c96b"
      },
      "execution_count": null,
      "outputs": [
        {
          "output_type": "stream",
          "name": "stdout",
          "text": [
            "0 0\n",
            "25 75\n",
            "50 91\n",
            "75 98\n",
            "100 100\n",
            "125 99\n",
            "150 95\n",
            "175 90\n",
            "200 83\n"
          ]
        }
      ]
    },
    {
      "cell_type": "code",
      "source": [
        "ticketPrice = 10\n",
        "fixedCost = 200\n",
        "standardAttendees = 20\n",
        "\n",
        "ad = 0\n",
        "while ad  < 201:\n",
        "    profit = 10 * (standardAttendees + 2 * round(ad **0.5)) - fixedCost - ad\n",
        "    ad = ad + 25\n",
        "    print(ad, profit)"
      ],
      "metadata": {
        "colab": {
          "base_uri": "https://localhost:8080/"
        },
        "id": "7Kko-q9MRw3j",
        "outputId": "496ac970-1a1b-40e2-9b71-8334c8ffee70"
      },
      "execution_count": null,
      "outputs": [
        {
          "output_type": "stream",
          "name": "stdout",
          "text": [
            "25 0\n",
            "50 75\n",
            "75 90\n",
            "100 105\n",
            "125 100\n",
            "150 95\n",
            "175 90\n",
            "200 85\n",
            "225 80\n"
          ]
        }
      ]
    },
    {
      "cell_type": "code",
      "source": [
        "L = []\n",
        "\n",
        "while True:\n",
        "    number = input(\"Enter a number to add to the list: \")\n",
        "    if number == \"0\":\n",
        "        break\n",
        "    else:\n",
        "        L.append(int(number))\n",
        "\n",
        "print(L)\n"
      ],
      "metadata": {
        "colab": {
          "base_uri": "https://localhost:8080/"
        },
        "id": "-SohiLnSVviG",
        "outputId": "a6effb59-be08-4bdf-f51d-dcde444c4879"
      },
      "execution_count": null,
      "outputs": [
        {
          "output_type": "stream",
          "name": "stdout",
          "text": [
            "Enter a number to add to the list: 1\n",
            "Enter a number to add to the list: 2\n",
            "Enter a number to add to the list: 3\n",
            "Enter a number to add to the list: 4\n",
            "Enter a number to add to the list: 5\n",
            "Enter a number to add to the list: 0\n",
            "[1, 2, 3, 4, 5]\n"
          ]
        }
      ]
    },
    {
      "cell_type": "code",
      "source": [
        "months = {}\n",
        "\n",
        "names = ['Jan', 'Feb', 'March', 'April', 'May', 'June', 'July', 'Aug', 'Sept', 'Oct', 'Nov', 'Dec']\n",
        "numbers = [1, 2, 3, 4, 5, 6, 7, 8, 9, 10, 11, 12]\n",
        "\n",
        "for d in range (len(numbers)):\n",
        "   months[numbers[d]] = names[d]\n",
        "\n",
        "print(months)\n"
      ],
      "metadata": {
        "colab": {
          "base_uri": "https://localhost:8080/"
        },
        "id": "Wj0Pon_eFp9C",
        "outputId": "2632bab2-c04c-44f3-c820-bb5641f72a4e"
      },
      "execution_count": null,
      "outputs": [
        {
          "output_type": "stream",
          "name": "stdout",
          "text": [
            "{1: 'Jan', 2: 'Feb', 3: 'March', 4: 'April', 5: 'May', 6: 'June', 7: 'July', 8: 'Aug', 9: 'Sept', 10: 'Oct', 11: 'Nov', 12: 'Dec'}\n"
          ]
        }
      ]
    },
    {
      "cell_type": "code",
      "source": [
        "alist = [1, 'two', 3.0]\n",
        "anotherlist = ['four', 5]\n",
        "alist.append(anotherlist)\n",
        "print(alist)\n"
      ],
      "metadata": {
        "id": "BJ8wG02cLGp1",
        "colab": {
          "base_uri": "https://localhost:8080/"
        },
        "outputId": "c1894c4e-ab92-4306-b420-54c7a27f5d9d"
      },
      "execution_count": null,
      "outputs": [
        {
          "output_type": "stream",
          "name": "stdout",
          "text": [
            "[1, 'two', 3.0, ['four', 5]]\n"
          ]
        }
      ]
    },
    {
      "cell_type": "code",
      "source": [
        "annual_salary = float(input(\"Enter your annual salary: \"))\n",
        "portion_saved = float(input(\"Enter the percent of your salary to save, as a decimal: \"))\n",
        "total_cost = float(input(\"Enter the cost of your dream home: \"))\n",
        "\n",
        "portion_down_payment = 0.25\n",
        "current_savings = 0.0\n",
        "r = 0.04\n",
        "\n",
        "down_payment = total_cost * portion_down_payment\n",
        "\n",
        "monthly_salary = annual_salary / 12\n",
        "\n",
        "months = 0\n",
        "\n",
        "while current_savings < down_payment:\n",
        "    current_savings += current_savings * (r / 12)\n",
        "    current_savings += monthly_salary * portion_saved\n",
        "    months += 1\n",
        "\n",
        "print(f\"Number of months: {months}\")\n"
      ],
      "metadata": {
        "id": "48TUesqnQ1fk"
      },
      "execution_count": null,
      "outputs": []
    },
    {
      "cell_type": "code",
      "source": [
        "annual_salary = float(input(\"Enter your annual salary: \"))\n",
        "portion_saved = float(input(\"Enter the percent of your salary to save, as a decimal: \"))\n",
        "total_cost = float(input(\"Enter the cost of your dream home: \"))\n",
        "semi_annual_raise = float(input(\"Enter the semi-annual raise, as a decimal: \"))\n",
        "\n",
        "portion_down_payment = 0.25\n",
        "current_savings = 0.0\n",
        "r = 0.04\n",
        "\n",
        "down_payment = total_cost * portion_down_payment\n",
        "\n",
        "monthly_salary = annual_salary / 12\n",
        "\n",
        "months = 0\n",
        "\n",
        "while current_savings < down_payment:\n",
        "    current_savings += current_savings * (r / 12)\n",
        "    current_savings += monthly_salary * portion_saved\n",
        "\n",
        "    if months % 6 == 0 and months != 0:\n",
        "        annual_salary += annual_salary * semi_annual_raise\n",
        "        monthly_salary = annual_salary / 12\n",
        "\n",
        "    months += 1\n",
        "\n",
        "print(f\"Number of months: {months}\")\n"
      ],
      "metadata": {
        "id": "kJNZLtIORGAM"
      },
      "execution_count": null,
      "outputs": []
    },
    {
      "cell_type": "code",
      "source": [
        "def range_check(number, low, high):\n",
        "    if low <= number <= high:\n",
        "        print(f\"{number} is in the range between {low} and {high}.\")\n",
        "    else:\n",
        "        print(f\"{number} is NOT in the range between {low} and {high}.\")\n"
      ],
      "metadata": {
        "id": "QXhEFcZgRiR1"
      },
      "execution_count": null,
      "outputs": []
    },
    {
      "cell_type": "code",
      "source": [
        "def calcfee(hours):\n",
        "    fee = 5 + hours * 2.5\n",
        "    return fee\n",
        "\n",
        "h = int(input(\"enter hours\"))\n",
        "fee = (calcfee(h))\n",
        "print(fee)"
      ],
      "metadata": {
        "colab": {
          "base_uri": "https://localhost:8080/"
        },
        "id": "rDBLDu2nO6JN",
        "outputId": "24c71c5c-8b4c-4a2c-f3b2-cedb33455637"
      },
      "execution_count": null,
      "outputs": [
        {
          "output_type": "stream",
          "name": "stdout",
          "text": [
            "enter hours4\n",
            "15.0\n"
          ]
        }
      ]
    },
    {
      "cell_type": "code",
      "source": [
        "def calcfee (hours, decimals=2):\n",
        "    fee = 5 + hours * 2.5\n",
        "    fee round(fee, decimals)\n",
        "    return fee\n",
        "\n",
        "def displayfee(fee):\n",
        "    print(f\"fee is {fee}\")\n",
        "\n",
        "h = int(input(\"enter hours\"))\n",
        "fee = (calcfee(h))\n",
        "    displayfee(fee)"
      ],
      "metadata": {
        "id": "q0NhCallSfKo"
      },
      "execution_count": null,
      "outputs": []
    }
  ]
}