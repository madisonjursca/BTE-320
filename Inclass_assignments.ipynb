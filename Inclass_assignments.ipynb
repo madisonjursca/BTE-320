{
  "nbformat": 4,
  "nbformat_minor": 0,
  "metadata": {
    "colab": {
      "provenance": [],
      "authorship_tag": "ABX9TyM+6Yh0V9vuig+bS/XOkaxE",
      "include_colab_link": true
    },
    "kernelspec": {
      "name": "python3",
      "display_name": "Python 3"
    },
    "language_info": {
      "name": "python"
    }
  },
  "cells": [
    {
      "cell_type": "markdown",
      "metadata": {
        "id": "view-in-github",
        "colab_type": "text"
      },
      "source": [
        "<a href=\"https://colab.research.google.com/github/madisonjursca/BTE-320/blob/main/Inclass_assignments.ipynb\" target=\"_parent\"><img src=\"https://colab.research.google.com/assets/colab-badge.svg\" alt=\"Open In Colab\"/></a>"
      ]
    },
    {
      "cell_type": "code",
      "execution_count": null,
      "metadata": {
        "colab": {
          "base_uri": "https://localhost:8080/"
        },
        "id": "3mgJrI6byZVm",
        "outputId": "2d8c8436-b5a5-4530-f1ac-3143bd9fc785"
      },
      "outputs": [
        {
          "output_type": "stream",
          "name": "stdout",
          "text": [
            "244.92000000000002\n"
          ]
        }
      ],
      "source": [
        "r = 3\n",
        "h = 10\n",
        "pi = 3.14\n",
        "\n",
        "area = 2 * pi * r ** 2 + 2 * pi * r * h\n",
        "print (area)"
      ]
    },
    {
      "cell_type": "code",
      "source": [
        "c = input(\"Do you want to play?\")\n",
        "while c == 'yes':\n",
        "  p1 = input(\"enter move of player 1\")\n",
        "  p2 = input(\"enter move of player 2\")\n",
        "\n",
        "  if p1 == p2:\n",
        "    print(\"draw\")\n",
        "\n",
        "  elif p1 == \"rock\" and p2 == \"sissors\":\n",
        "    print(\"p1 wins\")\n",
        "\n",
        "  elif p1 == \"sissors\" and p2 == \"paper\":\n",
        "    print(\"p1 wins\")\n",
        "\n",
        "  elif p1 == \"paper\" and p2 == \"rock\":\n",
        "    print(\"p1 wins\")\n",
        "\n",
        "  else:\n",
        "    print(\"p2 wins\")\n",
        "  c = input(\"Do you want to play?\")\n",
        "\n",
        "\n"
      ],
      "metadata": {
        "colab": {
          "base_uri": "https://localhost:8080/"
        },
        "id": "b68TQKJLSLlJ",
        "outputId": "361177bf-3668-493a-bed4-8751ec1a0adb"
      },
      "execution_count": null,
      "outputs": [
        {
          "name": "stdout",
          "output_type": "stream",
          "text": [
            "Do you want to play?yes\n",
            "enter move of player 1rock\n",
            "enter move of player 2paper\n",
            "p2 wins\n",
            "Do you want to play?no\n"
          ]
        }
      ]
    },
    {
      "cell_type": "code",
      "source": [
        "n1 = 2\n",
        "n2 = 3\n",
        "symbol = input(\"choose op\")\n",
        "\n",
        "if symbol == \"*\":\n",
        "  print(n1 * n2)\n",
        "\n",
        "elif symbol == \"+\":\n",
        "  print(n1 + n2)\n",
        "\n",
        "elif symbol == \"-\":\n",
        "  print: (n1 - n2)\n",
        "\n",
        "elif symbol == (\"/\"):\n",
        "  print(n1 / n2)\n",
        "\n",
        "elif symbol == (\"**\"):\n",
        "  print(n1 ** n2)\n",
        "\n",
        "elif symbol == (\"//\"):\n",
        "  print(n1 // n2)\n",
        "\n",
        "elif symbol == (\"%\"):\n",
        "  print(n1 % n2)\n",
        "\n",
        "else:\n",
        "  print(\"unable to compute\")"
      ],
      "metadata": {
        "colab": {
          "base_uri": "https://localhost:8080/"
        },
        "id": "goithSk_9LK7",
        "outputId": "cc21d2f3-d399-4133-8ee5-83fd9cc6716f"
      },
      "execution_count": null,
      "outputs": [
        {
          "output_type": "stream",
          "name": "stdout",
          "text": [
            "choose op%\n",
            "2\n"
          ]
        }
      ]
    },
    {
      "cell_type": "code",
      "source": [
        "import random\n",
        "\n",
        "\n",
        "c = input(\"Do you want to play?\")\n",
        "while c == 'yes':\n",
        "  p1 = input(\"enter move of player 1\")\n",
        "  p2 = random.choice([\"rock\", \"paper\", \"sissors\"])\n",
        "\n",
        "  print(f\"computer choice {p2}.\")\n",
        "\n",
        "  if p1 == p2:\n",
        "    print(\"draw\")\n",
        "\n",
        "  elif p1 == \"rock\" and p2 == \"sissors\":\n",
        "    print(\"you win\")\n",
        "\n",
        "  elif p1 == \"sissors\" and p2 == \"paper\":\n",
        "    print(\"you wins\")\n",
        "\n",
        "  elif p1 == \"paper\" and p2 == \"rock\":\n",
        "    print(\"you wins\")\n",
        "\n",
        "  else:\n",
        "    print(\"computer wins\")\n",
        "  c = input(\"Do you want to play?\")\n",
        "  print(\"have a nice day\")"
      ],
      "metadata": {
        "colab": {
          "base_uri": "https://localhost:8080/"
        },
        "id": "zw4x19TLCZvH",
        "outputId": "859fa38a-c058-479c-cd64-8d49cbe56175"
      },
      "execution_count": null,
      "outputs": [
        {
          "output_type": "stream",
          "name": "stdout",
          "text": [
            "Do you want to play?yes\n",
            "enter move of player 1rock\n",
            "computer choice rock.\n",
            "draw\n",
            "Do you want to play?yes\n",
            "have a nice day)\n",
            "enter move of player 1rock\n",
            "computer choice rock.\n",
            "draw\n",
            "Do you want to play?yes\n",
            "have a nice day)\n",
            "enter move of player 1sissors\n",
            "computer choice paper.\n",
            "you wins\n",
            "Do you want to play?no \n",
            "have a nice day)\n"
          ]
        }
      ]
    },
    {
      "cell_type": "code",
      "source": [
        "input(\"flat rate == 5\")\n",
        "\n",
        "for t in range (1, 9, 1):\n",
        "  charge = 5 + 2.5 * t\n",
        "  if charge < 10:\n",
        "    charge = 10\n",
        "  elif charge > 20:\n",
        "    charge = 20\n",
        "  print(t, charge)"
      ],
      "metadata": {
        "colab": {
          "base_uri": "https://localhost:8080/"
        },
        "id": "zMARrUCsDlb3",
        "outputId": "869c8614-50e2-4f5e-8b84-b8d1c18d8906"
      },
      "execution_count": null,
      "outputs": [
        {
          "output_type": "stream",
          "name": "stdout",
          "text": [
            "flat rate == 53\n",
            "1 10\n",
            "2 10.0\n",
            "3 12.5\n",
            "4 15.0\n",
            "5 17.5\n",
            "6 20.0\n",
            "7 20\n",
            "8 20\n"
          ]
        }
      ]
    },
    {
      "cell_type": "code",
      "source": [
        "for i in range (0, 201,25):\n",
        "  profit = 10 * (20 + 2 * i **0.5) - 200 - i\n",
        "\n",
        "  print(i, profit)\n",
        "\n"
      ],
      "metadata": {
        "colab": {
          "base_uri": "https://localhost:8080/"
        },
        "id": "j1tCl2sBK2jb",
        "outputId": "262ed471-0b9c-4609-e41a-ff45db83ffee"
      },
      "execution_count": 11,
      "outputs": [
        {
          "output_type": "stream",
          "name": "stdout",
          "text": [
            "0 0.0\n",
            "25 75.0\n",
            "50 91.42135623730951\n",
            "75 98.20508075688781\n",
            "100 100.0\n",
            "125 98.60679774997897\n",
            "150 94.94897427831779\n",
            "175 89.57513110645903\n",
            "200 82.84271247461902\n"
          ]
        }
      ]
    }
  ]
}